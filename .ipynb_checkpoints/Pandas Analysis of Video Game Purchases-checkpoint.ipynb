{
 "cells": [
  {
   "cell_type": "markdown",
   "metadata": {},
   "source": [
    "### Pandas Analysis of Video Game Purchases\n",
    "* Of the 1163 active players, the vast majority are male (84%). Proportion of female players comprises small minority (14%).\n",
    "\n",
    "* Average price per video game purchase was $3.05.\n",
    "\n",
    "* The peak age demographic falls between 20-24 (44.8%) with secondary groups falling between 15-19 (18.60%) and 25-29 (13.4%).\n",
    "\n",
    "* Players between 20-24 purchase totals more than double any other age group.\n",
    "\n",
    "* $18.96 was the most any one player spent on video games\n",
    "-----"
   ]
  },
  {
   "cell_type": "code",
   "execution_count": null,
   "metadata": {},
   "outputs": [],
   "source": [
    "# Dependencies and Setup\n",
    "import pandas as pd\n",
    "import numpy as np\n",
    "\n",
    "# File to Load (Remember to Change These)\n",
    "file_to_load = \"purchase_data.csv\"\n",
    "\n",
    "# Read Purchasing File and store into Pandas data frame\n",
    "purchase_data = pd.read_csv(file_to_load)\n",
    "purchase_data.head(3)"
   ]
  },
  {
   "cell_type": "markdown",
   "metadata": {},
   "source": [
    "## Player Count"
   ]
  },
  {
   "cell_type": "markdown",
   "metadata": {},
   "source": [
    "* Total number of players"
   ]
  },
  {
   "cell_type": "code",
   "execution_count": null,
   "metadata": {},
   "outputs": [],
   "source": [
    "num_players = purchase_data.SN.nunique()\n",
    "num_players = pd.DataFrame({\"Number of Players\":[num_players]})\n",
    "num_players"
   ]
  },
  {
   "cell_type": "markdown",
   "metadata": {},
   "source": [
    "## Purchasing Analysis (Total)"
   ]
  },
  {
   "cell_type": "markdown",
   "metadata": {},
   "source": [
    "* Number of unique items, average price, number of purchases, and total revenue."
   ]
  },
  {
   "cell_type": "code",
   "execution_count": null,
   "metadata": {
    "scrolled": true
   },
   "outputs": [],
   "source": [
    "#Create copy of data frame\n",
    "purchase_df = purchase_data\n",
    "\n",
    "#Rename columns to facilitate cleaner code\n",
    "purchase_df = purchase_df.rename(columns={'Purchase ID':'Purchase_ID',\n",
    "                                          'Item ID':'Item_ID',\n",
    "                                          'Item Name':'Item_Name'})\n",
    "\n",
    "#Unique items, average price, purchase count, and revenue\n",
    "unique_items_count = purchase_df.Item_ID.nunique()\n",
    "average_price = purchase_df.Price.mean()\n",
    "purchase_count = purchase_df.Purchase_ID.count()\n",
    "total_revenue = purchase_df.Price.sum()\n",
    "\n",
    "#Summary data frame\n",
    "purchase_df_analysis = pd.DataFrame({\"Unique Items\":[unique_items_count],\n",
    "                                    \"Average Price\":[average_price], \n",
    "                                    \"Number of Purchases\": [purchase_count], \n",
    "                                    \"Total Revenue\": [total_revenue]})\n",
    "\n",
    "# # Format in currency style\n",
    "purchase_df_analysis.style.format({'Average Price':\"${:,.2f}\",\n",
    "                                'Total Revenue': '${:,.2f}'})"
   ]
  },
  {
   "cell_type": "code",
   "execution_count": null,
   "metadata": {},
   "outputs": [],
   "source": [
    "purchase_df.describe()"
   ]
  },
  {
   "cell_type": "markdown",
   "metadata": {},
   "source": [
    "## Gender Demographics"
   ]
  },
  {
   "cell_type": "markdown",
   "metadata": {},
   "source": [
    "* Percentage and Count of Male, Female, and Other Players"
   ]
  },
  {
   "cell_type": "code",
   "execution_count": null,
   "metadata": {},
   "outputs": [],
   "source": [
    "#Filter unique screen names\n",
    "unique_players = purchase_df.drop_duplicates('SN')\n",
    "\n",
    "#Find values for each group\n",
    "gen_count = unique_players[\"Gender\"].count()\n",
    "male_group = unique_players[\"Gender\"].value_counts()['Male']\n",
    "female_group = unique_players[\"Gender\"].value_counts()['Female']\n",
    "non_gen = gen_count - (male_group + female_group)\n",
    "\n",
    "#Calculate percentage\n",
    "male_pct = (male_group / gen_count) * 100\n",
    "female_pct = (female_group / gen_count) * 100\n",
    "non_gen_pct = (non_gen / gen_count) * 100\n",
    "\n",
    "\n",
    "# Create new DataFrame\n",
    "gender_totals = pd.DataFrame({\"\": ['Male', 'Female', 'Other/Non-Disclosed'],\n",
    "                            'Gender Percent': [male_pct, female_pct, non_gen_pct],\n",
    "                            'Gender Count': [male_group, female_group, non_gen]})\n",
    "\n",
    "#Format percentages\n",
    "gender_totals['Gender Percent']=gender_totals['Gender Percent'].map('{:.2f}%'.format)\n",
    "\n",
    "gender_totals"
   ]
  },
  {
   "cell_type": "markdown",
   "metadata": {},
   "source": [
    "\n",
    "## Purchasing Analysis (Gender)"
   ]
  },
  {
   "cell_type": "markdown",
   "metadata": {},
   "source": [
    "* Purchase count, average purchase price, and average purchase total per person by gender."
   ]
  },
  {
   "cell_type": "code",
   "execution_count": null,
   "metadata": {},
   "outputs": [],
   "source": [
    "# Data Manipulation\n",
    "purchase_count = gender_analysis['SN'].count()\n",
    "avg_purchase_price = gender_analysis['Price'].mean()\n",
    "total_purchase = gender_analysis['Price'].sum()\n",
    "\n",
    "#Drop duplicate players\n",
    "gen_num = purchase_data.drop_duplicates(\"SN\")\n",
    "\n",
    "#Define variable for number of players by gender\n",
    "gen_num = gen_num.groupby(\"Gender\").count()\n",
    "\n",
    "# Create summary dataframe\n",
    "gender_group = pd.DataFrame(columns=['Purchase Count', 'Average Purchase Price','Average Total Per Person'])\n",
    "\n",
    "#Assign values to coloumns\n",
    "gender_group['Purchase Count']=purchase_count\n",
    "gender_group['Average Purchase Price']=avg_purchase_price\n",
    "gender_group['Total Purchase Value']=total_purchase\n",
    "gender_group['Average Total Per Person'] = gen_num\n",
    "gender_group['Average Total Per Person']=gender_group['Total Purchase Value']/gender_group[\"Average Total Per Person\"]\n",
    "\n",
    "# Format currency\n",
    "gender_group['Average Purchase Price'] = gender_group['Average Purchase Price'].map('${:.2f}'.format)\n",
    "gender_group['Average Total Per Person'] = gender_group['Average Total Per Person'].map('${:.2f}'.format)\n",
    "gender_group['Total Purchase Value'] = gender_group['Total Purchase Value'].map('${:.2f}'.format)\n",
    "\n",
    "gender_group"
   ]
  },
  {
   "cell_type": "markdown",
   "metadata": {},
   "source": [
    "## Age Demographics"
   ]
  },
  {
   "cell_type": "markdown",
   "metadata": {},
   "source": [
    "Number of players and associated percentage by age groups."
   ]
  },
  {
   "cell_type": "code",
   "execution_count": null,
   "metadata": {},
   "outputs": [],
   "source": [
    "#Establish bins for ages\n",
    "bins = [0,9,14,19,24,29,34,39,200]\n",
    "ages = ['Under 10', '10 - 14', '15 - 19', '20- 24', '25 - 29', '30 - 34', '35 - 39', '40 & over']\n",
    "\n",
    "#copy of dataframe to avoid changing original and avoid error later\n",
    "purchase2_df = purchase_df.copy()\n",
    "\n",
    "#Categorize players according to age\n",
    "purchase2_df['Age Groups'] = pd.cut(purchase2_df['Age'], bins, labels=ages)\n",
    "\n",
    "age_groups = purchase2_df.groupby('Age Groups')\n",
    "\n",
    "# Count total players by age group\n",
    "total_players_by_age = age_groups['SN'].nunique()\n",
    "\n",
    "total_players = purchase2_df['SN'].nunique()\n",
    "\n",
    "# Calculate percentages by age category \n",
    "pct_by_age = (total_players_by_age/total_players) * 100\n",
    "\n",
    "# Create summary data frame\n",
    "age_info = pd.DataFrame({'Total Count': total_players_by_age, 'Percentage of Players': pct_by_age})\n",
    "\n",
    "# Format percentage  \n",
    "age_info[\"Percentage of Players\"] = age_info[\"Percentage of Players\"].map(\"{:,.2f}%\".format)\n",
    "\n",
    "age_info"
   ]
  },
  {
   "cell_type": "markdown",
   "metadata": {},
   "source": [
    "## Purchasing Analysis (Age)"
   ]
  },
  {
   "cell_type": "markdown",
   "metadata": {},
   "source": [
    "* Purchase count, average purchase price, average purchase total per person by age group."
   ]
  },
  {
   "cell_type": "code",
   "execution_count": null,
   "metadata": {},
   "outputs": [],
   "source": [
    "#Establish bins for ages\n",
    "bins = [0,9,14,19,24,29,34,39,200]\n",
    "ages = ['Under 10', '10 - 14', '15 - 19', '20- 24', '25 - 29', '30 - 34', '35 - 39', '40 & over']\n",
    "\n",
    "#Categorize players according to age\n",
    "purchase2_df['Age Groups'] = pd.cut(purchase2_df['Age'], bins, labels=ages)\n",
    "\n",
    "age_groups = purchase2_df.groupby('Age Groups')\n",
    "\n",
    "purchase_count = age_groups['SN'].count()\n",
    "avg_purchase_price = age_groups['Price'].mean()\n",
    "total_purchase = age_groups['Price'].sum()\n",
    "\n",
    "#Create summary dataframe\n",
    "summary_by_age = pd.DataFrame(columns=['Purchase Count', 'Average Purchase Price','Average Total Per Person'])\n",
    "\n",
    "#Assign values to columns\n",
    "summary_by_age['Purchase Count']=purchase_count\n",
    "summary_by_age['Average Purchase Price']=avg_purchase_price\n",
    "summary_by_age['Total Purchase Value']=total_purchase\n",
    "summary_by_age['Average Total Per Person'] = total_players_by_age\n",
    "summary_by_age['Average Total Per Person']=summary_by_age['Total Purchase Value']/summary_by_age[\"Average Total Per Person\"]\n",
    "\n",
    "# Format currency\n",
    "summary_by_age['Average Purchase Price'] = summary_by_age['Average Purchase Price'].map('${:.2f}'.format)\n",
    "summary_by_age['Average Total Per Person'] = summary_by_age['Average Total Per Person'].map('${:.2f}'.format)\n",
    "summary_by_age['Total Purchase Value'] = summary_by_age['Total Purchase Value'].map('${:.2f}'.format)\n",
    "\n",
    "summary_by_age"
   ]
  },
  {
   "cell_type": "markdown",
   "metadata": {},
   "source": [
    "## Top Spenders"
   ]
  },
  {
   "cell_type": "markdown",
   "metadata": {},
   "source": [
    "* Player count, average purchase price, and total purchase amount per player in descending order."
   ]
  },
  {
   "cell_type": "code",
   "execution_count": null,
   "metadata": {},
   "outputs": [],
   "source": [
    "#Group dataframe by screen name\n",
    "by_player = purchase2_df.groupby('SN')\n",
    "\n",
    "#Calculate values using screen name group\n",
    "player_count = by_player['SN'].count()\n",
    "avg_purchase_price = by_player['Price'].mean()\n",
    "total_purchase = by_player['Price'].sum()\n",
    "\n",
    "# Create summary dataframe\n",
    "summary_by_player = pd.DataFrame(columns=['Player Count', 'Average Purchase Price','Total Purchases'])\n",
    "\n",
    "#Assign values to named columnssummary_by_player['Purchase Count']=purchase_count\n",
    "summary_by_player['Player Count']=player_count\n",
    "summary_by_player['Average Purchase Price']=avg_purchase_price\n",
    "summary_by_player['Total Purchases']=total_purchase\n",
    "\n",
    "#Sort in descending order\n",
    "summary_by_player = summary_by_player.sort_values(['Total Purchases'], ascending=False)\n",
    "\n",
    "# Format currency\n",
    "summary_by_player['Average Purchase Price'] = summary_by_player['Average Purchase Price'].map('${:.2f}'.format)\n",
    "summary_by_player['Total Purchases'] = summary_by_player['Total Purchases'].map('${:.2f}'.format)\n",
    "\n",
    "summary_by_player.head(3)"
   ]
  },
  {
   "cell_type": "markdown",
   "metadata": {},
   "source": [
    "## Most Popular Items"
   ]
  },
  {
   "cell_type": "markdown",
   "metadata": {},
   "source": [
    "* Purchase count, item price, and total purchase value by Item Name.\n",
    "\n",
    "\n",
    "* Displayed in descending order of purchase count."
   ]
  },
  {
   "cell_type": "code",
   "execution_count": null,
   "metadata": {},
   "outputs": [],
   "source": [
    "# Groups by item id and item name \n",
    "items = purchase_df.groupby([\"Item_ID\",\"Item_Name\"])\n",
    "\n",
    "# Count how many times item purchased \n",
    "purchase_count_item = items[\"Price\"].count()\n",
    "\n",
    "# Calculate total purchase value\n",
    "purchase_value = (items[\"Price\"].sum()) \n",
    "\n",
    "# Average item price\n",
    "item_price = (items[\"Price\"].mean())\n",
    "\n",
    "# Create summary dataframe\n",
    "popular_items = pd.DataFrame({\"Purchase Count\": purchase_count_item, \n",
    "                            \"Item Price\": item_price,\n",
    "                            \"Total Purchase Value\":purchase_value})\n",
    "\n",
    "# Sort by purchase count in descending order\n",
    "popular_formatted = popular_items.sort_values([\"Purchase Count\"], ascending=False).head(3)\n",
    "\n",
    "# Format currency\n",
    "popular_formatted.style.format({\"Item Price\":\"${:,.2f}\",\n",
    "                                \"Total Purchase Value\":\"${:,.2f}\"})"
   ]
  },
  {
   "cell_type": "markdown",
   "metadata": {},
   "source": [
    "## Most Profitable Items"
   ]
  },
  {
   "cell_type": "markdown",
   "metadata": {},
   "source": [
    "* Purchase count, Item Price, and Total Purchase Value by Item Name in descending order of Total Purchase Value."
   ]
  },
  {
   "cell_type": "code",
   "execution_count": null,
   "metadata": {
    "scrolled": true
   },
   "outputs": [],
   "source": [
    "# Sort in descending order\n",
    "popular_formatted = popular_items.sort_values([\"Total Purchase Value\"], ascending=False).head(3)\n",
    "\n",
    "# Format currency\n",
    "popular_formatted.style.format({\"Item Price\":\"${:,.2f}\",\n",
    "                                \"Total Purchase Value\":\"${:,.2f}\"})"
   ]
  }
 ],
 "metadata": {
  "anaconda-cloud": {},
  "kernel_info": {
   "name": "python3"
  },
  "kernelspec": {
   "display_name": "Python 3",
   "language": "python",
   "name": "python3"
  },
  "language_info": {
   "codemirror_mode": {
    "name": "ipython",
    "version": 3
   },
   "file_extension": ".py",
   "mimetype": "text/x-python",
   "name": "python",
   "nbconvert_exporter": "python",
   "pygments_lexer": "ipython3",
   "version": "3.7.0"
  },
  "nteract": {
   "version": "0.2.0"
  }
 },
 "nbformat": 4,
 "nbformat_minor": 2
}
