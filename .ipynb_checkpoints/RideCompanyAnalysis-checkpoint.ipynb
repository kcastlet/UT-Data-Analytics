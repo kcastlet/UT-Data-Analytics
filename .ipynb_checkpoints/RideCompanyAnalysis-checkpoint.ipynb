{
 "cells": [
  {
   "cell_type": "code",
   "execution_count": null,
   "metadata": {
    "scrolled": false
   },
   "outputs": [],
   "source": [
    "%matplotlib inline\n",
    "# Dependencies and Setup\n",
    "import matplotlib.pyplot as plt\n",
    "import pandas as pd\n",
    "import numpy as np\n",
    "\n",
    "#File to Load\n",
    "city_data_to_load = \"data/city_data.csv\"\n",
    "ride_data_to_load = \"data/ride_data.csv\"\n",
    "\n",
    "#Read City and Ride Data and drop nulls\n",
    "city_df = pd.read_csv(city_data_to_load).dropna()\n",
    "ride_df = pd.read_csv(ride_data_to_load).dropna()\n",
    "\n",
    "#Drop any duplicates in dataframe\n",
    "city_df = city_df.drop_duplicates('city', keep = 'first')\n",
    "\n",
    "#Merge two datasets\n",
    "merge_df = city_df.merge(ride_df, on = 'city')\n",
    "\n",
    "# Display data table\n",
    "merge_df.head(3)"
   ]
  },
  {
   "cell_type": "markdown",
   "metadata": {},
   "source": [
    "## Bubble Plot of Ride Sharing Data"
   ]
  },
  {
   "cell_type": "code",
   "execution_count": null,
   "metadata": {},
   "outputs": [],
   "source": [
    "## Obtain the x (total rides per city) and y (average fare per city) coordinates for each of three city types\n",
    "#Group by city type\n",
    "city_group = merge_df.groupby(['city','type'])\n",
    "\n",
    "#Assign total rides per city\n",
    "total_rides = city_group['ride_id'].count()\n",
    "\n",
    "#Assign average fare by city\n",
    "avg_fare = city_group['fare'].mean()\n",
    "\n",
    "#Assign average number of drivers per city\n",
    "num_drivers = city_group['driver_count'].mean()"
   ]
  },
  {
   "cell_type": "code",
   "execution_count": null,
   "metadata": {},
   "outputs": [],
   "source": [
    "#Summary dataframe\n",
    "ride_info_df = pd.DataFrame({\n",
    "    \"Total Rides\": total_rides,\n",
    "    \"Average Fare\": avg_fare,\n",
    "    \"Number of Drivers\": num_drivers})\n",
    "\n",
    "ride_info_df = ride_info_df.sort_values('Number of Drivers', ascending = False)\n",
    "ride_info_df.head(3)"
   ]
  },
  {
   "cell_type": "code",
   "execution_count": null,
   "metadata": {},
   "outputs": [],
   "source": [
    "#Reset index to include city and type\n",
    "ride_info_df = ride_info_df.reset_index()\n",
    "ride_info_df=ride_info_df[['city', 'type', 'Total Rides', 'Average Fare', 'Number of Drivers']]\n",
    "\n",
    "ride_info_df.head(3)"
   ]
  },
  {
   "cell_type": "code",
   "execution_count": null,
   "metadata": {},
   "outputs": [],
   "source": [
    "#Group by city type\n",
    "city_type = ride_info_df.groupby([\"type\"])\n",
    "\n",
    "#Subgroups\n",
    "urban=city_type.get_group(\"Urban\")\n",
    "suburban = city_type.get_group(\"Suburban\")\n",
    "rural = city_type.get_group(\"Rural\")"
   ]
  },
  {
   "cell_type": "code",
   "execution_count": null,
   "metadata": {},
   "outputs": [],
   "source": [
    "#Scatter plots for each city type\n",
    "plt.scatter(urban['Total Rides'],urban['Average Fare'],urban['Number of Drivers']*10,edgecolors=\"black\",facecolors=\"coral\",alpha=0.7,label=\"Urban\")\n",
    "plt.scatter(suburban['Total Rides'],suburban['Average Fare'],suburban['Number of Drivers']*10,edgecolors=\"black\",facecolors=\"skyblue\",alpha=0.7,label=\"Suburban\")\n",
    "plt.scatter(rural['Total Rides'],rural['Average Fare'],rural['Number of Drivers']*10,edgecolors=\"black\",facecolors=\"gold\",alpha=0.7,label=\"Rural\")\n",
    "\n",
    "#Format graph\n",
    "#Title and axis labels\n",
    "plt.suptitle('Pyber Ride Share Data (2019)')\n",
    "\n",
    "#x and y axes labels\n",
    "plt.xlabel('Total Number of Rides (Per City)')\n",
    "plt.ylabel('Average Fare ($)')\n",
    "\n",
    "plt.grid(b=True,which=\"major\",axis=\"both\",linestyle=\"-\",color=\"lightgrey\")\n",
    "\n",
    "#legend\n",
    "lgnd=plt.legend(title=\"City Types\",loc=\"upper right\",fontsize=\"small\",scatterpoints=1,markerscale=True)\n",
    "lgnd.legendHandles[0]._sizes = [30]\n",
    "lgnd.legendHandles[1]._sizes = [30]\n",
    "lgnd.legendHandles[2]._sizes = [30]\n",
    "\n",
    "#Note regarding circle size\n",
    "plt.text(42,36,\"Note:\")\n",
    "plt.text(42,34,\"Circle size correlates with driver count per city.\")\n",
    "\n",
    "# Save Figure\n",
    "plt.savefig(\"Pyber Ride Share Data.png\")"
   ]
  },
  {
   "cell_type": "markdown",
   "metadata": {},
   "source": [
    "## Total Fares by City Type"
   ]
  },
  {
   "cell_type": "code",
   "execution_count": null,
   "metadata": {},
   "outputs": [],
   "source": [
    "#Sum of fares per type\n",
    "fares_by_type = merge_df.groupby([\"type\"])[\"fare\"].sum()\n",
    "\n",
    "#Sum of  fares and divide for percentages\n",
    "total_fares = fares_by_type.sum()\n",
    "pct_fares = fares_by_type / total_fares\n",
    "\n",
    "#Pie chart\n",
    "plt.pie(pct_fares, shadow = True, startangle = 150, labels = [\"rural\",\"suburban\",\"urban\"], explode=[0,0,0.1],colors=[\"gold\",\"skyblue\",\"lightcoral\"],autopct=\"%1.1f%%\")\n",
    "\n",
    "# chart formatting\n",
    "plt.axis(\"equal\")\n",
    "plt.title(\"% of Total Fares by City Type\")\n",
    "\n",
    "# Save Figure\n",
    "plt.savefig(\"fares_by_city_type.png\")\n",
    "\n",
    "# Show Figure\n",
    "plt.show()"
   ]
  },
  {
   "cell_type": "markdown",
   "metadata": {},
   "source": [
    "## Total Rides by City Type"
   ]
  },
  {
   "cell_type": "code",
   "execution_count": null,
   "metadata": {},
   "outputs": [],
   "source": [
    "#Group rides by city type\n",
    "rides_by_type = merge_df.groupby([\"type\"])[\"ride_id\"].count()\n",
    "\n",
    "#Calculate Ride Percents\n",
    "total_fares = rides_by_type.sum()\n",
    "pct_rides = rides_by_type / total_fares\n",
    "\n",
    "#Pie chart\n",
    "plt.pie(pct_rides, shadow = True, startangle = 150, labels = [\"rural\",\"suburban\",\"urban\"], explode=[0,0,0.1],colors=[\"gold\",\"skyblue\",\"lightcoral\"],autopct=\"%1.1f%%\")\n",
    "\n",
    "# chart formatting\n",
    "plt.axis(\"equal\")\n",
    "plt.title(\"% of Total Rides by City Type\")\n",
    "\n",
    "# Save Figure\n",
    "plt.savefig(\"rides_by_city_type.png\")\n",
    "\n",
    "plt.show()"
   ]
  },
  {
   "cell_type": "markdown",
   "metadata": {},
   "source": [
    "## Total Drivers by City Type"
   ]
  },
  {
   "cell_type": "code",
   "execution_count": null,
   "metadata": {},
   "outputs": [],
   "source": [
    "#Group drivers by city type\n",
    "drivers_by_type = merge_df.groupby([\"type\"])[\"ride_id\"].count()\n",
    "\n",
    "#Calculate Ride Percents\n",
    "total_drivers = drivers_by_type.sum()\n",
    "pct_drivers = drivers_by_type / total_drivers\n",
    "\n",
    "#Pie chart\n",
    "plt.pie(pct_drivers, shadow = True, startangle = 150, labels = [\"rural\",\"suburban\",\"urban\"], explode=[0,0,0.1],colors=[\"gold\",\"skyblue\",\"lightcoral\"],autopct=\"%1.1f%%\")\n",
    "\n",
    "# chart formatting\n",
    "plt.axis(\"equal\")\n",
    "plt.title(\"% of Total Drivers by City Type\")\n",
    "\n",
    "# Save Figure\n",
    "plt.savefig(\"drivers_by_city_type.png\")\n",
    "\n",
    "# Show Figure\n",
    "plt.show()"
   ]
  }
 ],
 "metadata": {
  "anaconda-cloud": {},
  "kernelspec": {
   "display_name": "Python 3",
   "language": "python",
   "name": "python3"
  },
  "language_info": {
   "codemirror_mode": {
    "name": "ipython",
    "version": 3
   },
   "file_extension": ".py",
   "mimetype": "text/x-python",
   "name": "python",
   "nbconvert_exporter": "python",
   "pygments_lexer": "ipython3",
   "version": "3.7.0"
  }
 },
 "nbformat": 4,
 "nbformat_minor": 2
}
